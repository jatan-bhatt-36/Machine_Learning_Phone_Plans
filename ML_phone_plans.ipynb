{
 "cells": [
  {
   "cell_type": "markdown",
   "metadata": {},
   "source": [
    "# Intro to Machine Learning Project - Choosing the best phone plan"
   ]
  },
  {
   "cell_type": "markdown",
   "metadata": {},
   "source": [
    "<b><u>Project description:\n",
    "\n",
    "<i>Mobile carrier Megaline has found out that many of their subscribers use legacy plans. They want to develop a model that would analyze subscribers' behavior and recommend one of Megaline's newer plans: Smart or Ultra. \n",
    "\n",
    "<i>You have access to behavior data about subscribers who have already switched to the new plans (from the project for the Statistical Data Analysis course). For this classification task, you need to develop a model that will pick the right plan. Since you’ve already performed the data preprocessing step, you can move straight to creating the model.  \n",
    "\n",
    "<i>Develop a model with the highest possible accuracy. In this project, the threshold for accuracy is 0.75. Check the accuracy using the test dataset."
   ]
  },
  {
   "cell_type": "markdown",
   "metadata": {},
   "source": [
    "<b><u>Project instructions:\n",
    "\n",
    "1. Open and look through the data file.\n",
    "2. Split the source data into a training set, a validation set, and a test set.\n",
    "3. Investigate the quality of different models by changing hyperparameters. Briefly describe the findings of the study.\n",
    "4. Check the quality of the model using the test set.\n",
    "5. Additional task: sanity check the model. This data is more complex than what you’re used to working with, so it's not an easy task. We'll take a closer look at it later."
   ]
  },
  {
   "cell_type": "markdown",
   "metadata": {},
   "source": [
    "<b>Step 1: Open and look through the data file."
   ]
  },
  {
   "cell_type": "code",
   "execution_count": 16,
   "metadata": {},
   "outputs": [],
   "source": [
    "#import necessary packages\n",
    "import pandas as pd\n",
    "from sklearn.model_selection import train_test_split\n",
    "from sklearn.metrics import accuracy_score\n",
    "\n",
    "from sklearn.tree import DecisionTreeClassifier\n",
    "from sklearn.ensemble import RandomForestClassifier\n",
    "from sklearn.linear_model import LogisticRegression"
   ]
  },
  {
   "cell_type": "code",
   "execution_count": 17,
   "metadata": {},
   "outputs": [
    {
     "data": {
      "text/html": [
       "<div>\n",
       "<style scoped>\n",
       "    .dataframe tbody tr th:only-of-type {\n",
       "        vertical-align: middle;\n",
       "    }\n",
       "\n",
       "    .dataframe tbody tr th {\n",
       "        vertical-align: top;\n",
       "    }\n",
       "\n",
       "    .dataframe thead th {\n",
       "        text-align: right;\n",
       "    }\n",
       "</style>\n",
       "<table border=\"1\" class=\"dataframe\">\n",
       "  <thead>\n",
       "    <tr style=\"text-align: right;\">\n",
       "      <th></th>\n",
       "      <th>calls</th>\n",
       "      <th>minutes</th>\n",
       "      <th>messages</th>\n",
       "      <th>mb_used</th>\n",
       "      <th>is_ultra</th>\n",
       "    </tr>\n",
       "  </thead>\n",
       "  <tbody>\n",
       "    <tr>\n",
       "      <th>0</th>\n",
       "      <td>40.0</td>\n",
       "      <td>311.90</td>\n",
       "      <td>83.0</td>\n",
       "      <td>19915.42</td>\n",
       "      <td>0</td>\n",
       "    </tr>\n",
       "    <tr>\n",
       "      <th>1</th>\n",
       "      <td>85.0</td>\n",
       "      <td>516.75</td>\n",
       "      <td>56.0</td>\n",
       "      <td>22696.96</td>\n",
       "      <td>0</td>\n",
       "    </tr>\n",
       "    <tr>\n",
       "      <th>2</th>\n",
       "      <td>77.0</td>\n",
       "      <td>467.66</td>\n",
       "      <td>86.0</td>\n",
       "      <td>21060.45</td>\n",
       "      <td>0</td>\n",
       "    </tr>\n",
       "    <tr>\n",
       "      <th>3</th>\n",
       "      <td>106.0</td>\n",
       "      <td>745.53</td>\n",
       "      <td>81.0</td>\n",
       "      <td>8437.39</td>\n",
       "      <td>1</td>\n",
       "    </tr>\n",
       "    <tr>\n",
       "      <th>4</th>\n",
       "      <td>66.0</td>\n",
       "      <td>418.74</td>\n",
       "      <td>1.0</td>\n",
       "      <td>14502.75</td>\n",
       "      <td>0</td>\n",
       "    </tr>\n",
       "    <tr>\n",
       "      <th>...</th>\n",
       "      <td>...</td>\n",
       "      <td>...</td>\n",
       "      <td>...</td>\n",
       "      <td>...</td>\n",
       "      <td>...</td>\n",
       "    </tr>\n",
       "    <tr>\n",
       "      <th>3209</th>\n",
       "      <td>122.0</td>\n",
       "      <td>910.98</td>\n",
       "      <td>20.0</td>\n",
       "      <td>35124.90</td>\n",
       "      <td>1</td>\n",
       "    </tr>\n",
       "    <tr>\n",
       "      <th>3210</th>\n",
       "      <td>25.0</td>\n",
       "      <td>190.36</td>\n",
       "      <td>0.0</td>\n",
       "      <td>3275.61</td>\n",
       "      <td>0</td>\n",
       "    </tr>\n",
       "    <tr>\n",
       "      <th>3211</th>\n",
       "      <td>97.0</td>\n",
       "      <td>634.44</td>\n",
       "      <td>70.0</td>\n",
       "      <td>13974.06</td>\n",
       "      <td>0</td>\n",
       "    </tr>\n",
       "    <tr>\n",
       "      <th>3212</th>\n",
       "      <td>64.0</td>\n",
       "      <td>462.32</td>\n",
       "      <td>90.0</td>\n",
       "      <td>31239.78</td>\n",
       "      <td>0</td>\n",
       "    </tr>\n",
       "    <tr>\n",
       "      <th>3213</th>\n",
       "      <td>80.0</td>\n",
       "      <td>566.09</td>\n",
       "      <td>6.0</td>\n",
       "      <td>29480.52</td>\n",
       "      <td>1</td>\n",
       "    </tr>\n",
       "  </tbody>\n",
       "</table>\n",
       "<p>3214 rows × 5 columns</p>\n",
       "</div>"
      ],
      "text/plain": [
       "      calls  minutes  messages   mb_used  is_ultra\n",
       "0      40.0   311.90      83.0  19915.42         0\n",
       "1      85.0   516.75      56.0  22696.96         0\n",
       "2      77.0   467.66      86.0  21060.45         0\n",
       "3     106.0   745.53      81.0   8437.39         1\n",
       "4      66.0   418.74       1.0  14502.75         0\n",
       "...     ...      ...       ...       ...       ...\n",
       "3209  122.0   910.98      20.0  35124.90         1\n",
       "3210   25.0   190.36       0.0   3275.61         0\n",
       "3211   97.0   634.44      70.0  13974.06         0\n",
       "3212   64.0   462.32      90.0  31239.78         0\n",
       "3213   80.0   566.09       6.0  29480.52         1\n",
       "\n",
       "[3214 rows x 5 columns]"
      ]
     },
     "execution_count": 17,
     "metadata": {},
     "output_type": "execute_result"
    }
   ],
   "source": [
    "# Open data file and look at the dataset\n",
    "users = pd.read_csv(\"/datasets/users_behavior.csv\")\n",
    "users"
   ]
  },
  {
   "cell_type": "code",
   "execution_count": 18,
   "metadata": {},
   "outputs": [
    {
     "name": "stdout",
     "output_type": "stream",
     "text": [
      "<class 'pandas.core.frame.DataFrame'>\n",
      "RangeIndex: 3214 entries, 0 to 3213\n",
      "Data columns (total 5 columns):\n",
      " #   Column    Non-Null Count  Dtype  \n",
      "---  ------    --------------  -----  \n",
      " 0   calls     3214 non-null   float64\n",
      " 1   minutes   3214 non-null   float64\n",
      " 2   messages  3214 non-null   float64\n",
      " 3   mb_used   3214 non-null   float64\n",
      " 4   is_ultra  3214 non-null   int64  \n",
      "dtypes: float64(4), int64(1)\n",
      "memory usage: 125.7 KB\n"
     ]
    },
    {
     "data": {
      "text/plain": [
       "calls       0\n",
       "minutes     0\n",
       "messages    0\n",
       "mb_used     0\n",
       "is_ultra    0\n",
       "dtype: int64"
      ]
     },
     "execution_count": 18,
     "metadata": {},
     "output_type": "execute_result"
    }
   ],
   "source": [
    "# Take a more detailed look at the data file, check for Null Values\n",
    "users.info()\n",
    "users.isna().sum()"
   ]
  },
  {
   "cell_type": "code",
   "execution_count": 19,
   "metadata": {},
   "outputs": [
    {
     "data": {
      "text/plain": [
       "0"
      ]
     },
     "execution_count": 19,
     "metadata": {},
     "output_type": "execute_result"
    }
   ],
   "source": [
    "# Check for Duplicates\n",
    "users.duplicated().sum()"
   ]
  },
  {
   "cell_type": "markdown",
   "metadata": {},
   "source": [
    "<span style= \"color: blue\"> Comments:\n",
    "    Upon taking a closer look at the data file, we see there are 5 columns, 3214 rows and 0 null values. Checking for duplicates, we see there are no duplicate entries in the dataset. This indicates the data is clean and no further actions are necessary. We can now move on to Step 2."
   ]
  },
  {
   "cell_type": "markdown",
   "metadata": {},
   "source": [
    "<b> Step 2: Split the source data into a training set, a validation set, and a test set."
   ]
  },
  {
   "cell_type": "code",
   "execution_count": 20,
   "metadata": {},
   "outputs": [],
   "source": [
    "# Set up the Features and Target\n",
    "features = users.drop(['is_ultra'], axis = 1)\n",
    "target = users['is_ultra']"
   ]
  },
  {
   "cell_type": "code",
   "execution_count": 21,
   "metadata": {},
   "outputs": [],
   "source": [
    "# Split into training set, validation set and test set\n",
    "\n",
    "## First let's split the dataset into 60% training set and a 40% temporary set (we will use this in the next step)\n",
    "features_train, features_temp, target_train, target_temp = train_test_split(\n",
    "    features, target, test_size=0.40, random_state=12345, stratify = target)\n",
    "\n",
    "## Next let's split the temporary dataset we just created into 2 equal parts for validation and test sets\n",
    "features_valid, features_test, target_valid, target_test = train_test_split(\n",
    "    features_temp, target_temp, test_size=0.50, random_state=12345, stratify = target_temp)"
   ]
  },
  {
   "cell_type": "code",
   "execution_count": 22,
   "metadata": {},
   "outputs": [
    {
     "name": "stdout",
     "output_type": "stream",
     "text": [
      "(3214, 4) (1286, 4) (643, 4) (643, 4)\n",
      "(3214,) (1286,) (643,) (643,)\n"
     ]
    }
   ],
   "source": [
    "# let's verify the datasets are created properly by checking their sizes match the proportions we created in the previous step\n",
    "print(features.shape, features_temp.shape, features_test.shape, features_valid.shape)\n",
    "print(target.shape, target_temp.shape, target_test.shape, target_valid.shape)"
   ]
  },
  {
   "cell_type": "markdown",
   "metadata": {},
   "source": [
    "<span style= \"color: blue\"> Comments: \n",
    "    The dataset was split into 3 sub datasets, namely training set, validation set and test set. The sizes of these sets were determined based on the breakdown as shown in \"Chapter 4: Model Improvements, Lesson 2: Validation Datasets\", where the Lesson says that general practice is to use 60% for training set, 20% for validation set and 20% for test set. Once the data is split, we can move on to step 3 in choosing the right model."
   ]
  },
  {
   "cell_type": "markdown",
   "metadata": {},
   "source": [
    "<b>Step 3. Investigate the quality of different models by changing hyperparameters. Briefly describe the findings of the study."
   ]
  },
  {
   "cell_type": "markdown",
   "metadata": {},
   "source": [
    "<span style= \"color: blue\"> Comments: The first step is to choose between a Classifier and Regressor. Since the target variable is the column, 'is_ultra', which only contains 0 and 1 values representating True and False, we conclude the target is categorical and therefore we should use a Classifier as opposed to a Regressor. Next we need to choose a model that will yield the highest accuracy (as per the prompt) but since we don't know which model that is based on just the dataset, let's create 3 different models, than tune the hyperparameters and calculate the accuracy for each model. Finally, we can compare the results from each model and choose the model with the highest accuracy."
   ]
  },
  {
   "cell_type": "code",
   "execution_count": 23,
   "metadata": {},
   "outputs": [
    {
     "name": "stdout",
     "output_type": "stream",
     "text": [
      "At max_depth = 1, Accuracy = 0.7402799377916018\n",
      "At max_depth = 2, Accuracy = 0.7729393468118196\n",
      "At max_depth = 3, Accuracy = 0.7776049766718507\n",
      "At max_depth = 4, Accuracy = 0.7542768273716952\n",
      "At max_depth = 5, Accuracy = 0.7869362363919129\n",
      "At max_depth = 6, Accuracy = 0.776049766718507\n",
      "At max_depth = 7, Accuracy = 0.7931570762052877\n",
      "At max_depth = 8, Accuracy = 0.7962674961119751\n",
      "At max_depth = 9, Accuracy = 0.7916018662519441\n",
      "At max_depth = 10, Accuracy = 0.7744945567651633\n",
      "\n",
      "Best Validation Set Accuracy: 0.7962674961119751\n"
     ]
    }
   ],
   "source": [
    "# Decision Tree Model - Building the Model, Tuning Hyperparameters & Testing Accuracy on Validation Set\n",
    "\n",
    "dt_best_model = None\n",
    "dt_best_accuracy = 0\n",
    "\n",
    "for depth in range(1, 11): \n",
    "    dt_model = DecisionTreeClassifier(random_state = 1234, max_depth = depth)\n",
    "    dt_model.fit(features_train, target_train) \n",
    "    dt_predictions_valid = dt_model.predict(features_valid)\n",
    "    dt_accuracy = accuracy_score(target_valid, dt_predictions_valid)\n",
    "    print(f\"At max_depth = {depth}, Accuracy = {dt_accuracy}\")\n",
    "    if dt_accuracy > dt_best_accuracy:\n",
    "        dt_best_accuracy = dt_accuracy\n",
    "        dt_best_model = dt_model\n",
    "        \n",
    "print()\n",
    "print(\"Best Validation Set Accuracy:\", dt_best_accuracy)\n",
    "    "
   ]
  },
  {
   "cell_type": "markdown",
   "metadata": {},
   "source": [
    "<b>Step 4. Check the quality of the model using the test set."
   ]
  },
  {
   "cell_type": "code",
   "execution_count": 24,
   "metadata": {},
   "outputs": [
    {
     "name": "stdout",
     "output_type": "stream",
     "text": [
      "Decision Tree Model - Test Set Accuracy: 0.7931570762052877\n",
      "Accuracy Greater Than Threshold, Model Passes\n"
     ]
    }
   ],
   "source": [
    "# Decision Tree Model - Test the Model on Test Set\n",
    "\n",
    "threshold = 0.75\n",
    "dt_predictions_test = dt_model.predict(features_test)\n",
    "dt_accuracy_test = accuracy_score(target_test, dt_predictions_test)\n",
    "print(f'Decision Tree Model - Test Set Accuracy: {dt_accuracy_test}')\n",
    "if dt_accuracy_test > threshold:\n",
    "    print(\"Accuracy Greater Than Threshold, Model Passes\")\n",
    "else:\n",
    "    print(\"Model Fails\")"
   ]
  },
  {
   "cell_type": "markdown",
   "metadata": {},
   "source": [
    "<span style='color:blue'> Comments: Now let's repeat Steps 3 and 4 for 2 more models."
   ]
  },
  {
   "cell_type": "code",
   "execution_count": 25,
   "metadata": {},
   "outputs": [
    {
     "name": "stdout",
     "output_type": "stream",
     "text": [
      "n_estimators = 10, Accuracy = 0.7931570762052877\n",
      "n_estimators = 50, Accuracy = 0.7978227060653188\n",
      "n_estimators = 100, Accuracy = 0.7993779160186625\n",
      "n_estimators = 150, Accuracy = 0.8009331259720062\n",
      "n_estimators = 200, Accuracy = 0.8009331259720062\n",
      "\n",
      "Best Validation Set Accuracy: 0.8009331259720062\n"
     ]
    }
   ],
   "source": [
    "# Random Forest Model - Building the Model, Tuning Hyperparameters & Testing Accuracy on Validation Set\n",
    "\n",
    "rf_best_model = None\n",
    "rf_best_accuracy = 0\n",
    "\n",
    "for est in [10, 50, 100, 150, 200]:\n",
    "    rf_model = RandomForestClassifier(n_estimators = est, random_state=1234)\n",
    "    rf_model.fit(features_train, target_train)\n",
    "    rf_predictions_valid = rf_model.predict(features_valid)\n",
    "    rf_accuracy = accuracy_score(target_valid, rf_predictions_valid)\n",
    "    print(f\"n_estimators = {est}, Accuracy = {rf_accuracy}\")\n",
    "    if rf_accuracy > rf_best_accuracy:\n",
    "        rf_best_accuracy = rf_accuracy\n",
    "        rf_best_model = rf_model\n",
    "        \n",
    "print()\n",
    "print(\"Best Validation Set Accuracy:\", rf_best_accuracy)"
   ]
  },
  {
   "cell_type": "code",
   "execution_count": 26,
   "metadata": {},
   "outputs": [
    {
     "name": "stdout",
     "output_type": "stream",
     "text": [
      "Random Forest Model - Test Set Accuracy: 0.8055987558320373\n",
      "Accuracy Greater Than Threshold, Model Passes\n"
     ]
    }
   ],
   "source": [
    "# Random Forest Model - Test the Model on Test Set\n",
    "threshold = 0.75\n",
    "rf_predictions_test = rf_model.predict(features_test)\n",
    "rf_accuracy_test = accuracy_score(target_test, rf_predictions_test)\n",
    "print(f'Random Forest Model - Test Set Accuracy: {rf_accuracy_test}')\n",
    "if rf_accuracy_test > threshold:\n",
    "    print(\"Accuracy Greater Than Threshold, Model Passes\")\n",
    "else:\n",
    "    print(\"Model Fails\")"
   ]
  },
  {
   "cell_type": "code",
   "execution_count": 27,
   "metadata": {},
   "outputs": [
    {
     "name": "stdout",
     "output_type": "stream",
     "text": [
      "C = 0.01, Accuracy = 0.7433903576982893\n",
      "C = 0.1, Accuracy = 0.7418351477449455\n",
      "C = 1, Accuracy = 0.7387247278382582\n",
      "C = 10, Accuracy = 0.7387247278382582\n",
      "C = 100, Accuracy = 0.7387247278382582\n",
      "\n",
      "Best Validation Set Accuracy: 0.7433903576982893\n"
     ]
    }
   ],
   "source": [
    "# Logistic Regression Model - Building the Model, Tuning Hyperparameters & Testing Accuracy on Validation Set\n",
    "\n",
    "from sklearn.preprocessing import StandardScaler\n",
    "\n",
    "scaler = StandardScaler()\n",
    "features_train_scaled = scaler.fit_transform(features_train)\n",
    "features_valid_scaled = scaler.transform(features_valid)\n",
    "\n",
    "lr_best_model = None\n",
    "lr_best_accuracy = 0\n",
    "\n",
    "for c in [0.01, 0.1, 1, 10, 100]:\n",
    "    lr_model = LogisticRegression(C=c, penalty = 'l2', max_iter=100, solver = 'liblinear')\n",
    "    lr_model.fit(features_train_scaled, target_train)\n",
    "    lr_predictions_valid = lr_model.predict(features_valid_scaled)\n",
    "    lr_accuracy = accuracy_score(target_valid, lr_predictions_valid)\n",
    "    print(f\"C = {c}, Accuracy = {lr_accuracy}\")\n",
    "    if lr_accuracy > lr_best_accuracy:\n",
    "        lr_best_accuracy = lr_accuracy\n",
    "        lr_best_model = lr_model\n",
    "print()\n",
    "print(\"Best Validation Set Accuracy:\", lr_best_accuracy)"
   ]
  },
  {
   "cell_type": "code",
   "execution_count": 28,
   "metadata": {},
   "outputs": [
    {
     "name": "stdout",
     "output_type": "stream",
     "text": [
      "Logistic Regression Model - Test Set Accuracy 0.7465007776049767\n",
      "Model Fails\n"
     ]
    }
   ],
   "source": [
    "# Logistic Regression Model - Testing the Model on Test Set\n",
    "\n",
    "features_test_scaled = scaler.transform(features_test)\n",
    "\n",
    "threshold = 0.75\n",
    "lr_predictions_test = lr_model.predict(features_test_scaled)\n",
    "lr_accuracy_test = accuracy_score(target_test, lr_predictions_test)\n",
    "print(\"Logistic Regression Model - Test Set Accuracy\", lr_accuracy_test)\n",
    "if lr_accuracy_test > threshold:\n",
    "    print(\"Accuracy Greater Than Threshold, Model Passes\")\n",
    "else:\n",
    "    print(\"Model Fails\")"
   ]
  },
  {
   "cell_type": "code",
   "execution_count": 29,
   "metadata": {},
   "outputs": [
    {
     "name": "stdout",
     "output_type": "stream",
     "text": [
      "Decision Tree Accuracy: 0.7931570762052877\n",
      "Random Forest Accuracy: 0.8055987558320373 \n",
      "Logistic Regression Accuracy: 0.7465007776049767\n"
     ]
    }
   ],
   "source": [
    "# Select the model with the best accuracy\n",
    "\n",
    "print(f\"Decision Tree Accuracy: {dt_accuracy_test}\\nRandom Forest Accuracy: {rf_accuracy_test} \\nLogistic Regression Accuracy: {lr_accuracy_test}\")"
   ]
  },
  {
   "cell_type": "markdown",
   "metadata": {},
   "source": [
    "<span style= \"color: blue\"> Comments: We completed Steps 3 and 4 by building 3 different model, tuning their hyperparameters to yield the highest accuracy on the validation set and then finally testing the quality of the model by checking for accuracy on the test set. Based on the results from each model, Random Forest generates the highest accuracy followed by Decision Tree and then Logistic Regression. As such, the best model for this scenario is the Random Forest Classifier Model. Before completing the project, we should perform a Sanity Check and we can do this in many ways. I chose to build a dummy model and compare my results to that of the dummy model. Seeing that Random Forest model yields a much higher accuracy than the dummy model, we can safely check sanity off the list."
   ]
  },
  {
   "cell_type": "markdown",
   "metadata": {},
   "source": [
    "<b> Step 5. Sanity check the model."
   ]
  },
  {
   "cell_type": "code",
   "execution_count": 30,
   "metadata": {},
   "outputs": [
    {
     "name": "stdout",
     "output_type": "stream",
     "text": [
      "Baseline Accuracy: 0.6936236391912908\n"
     ]
    }
   ],
   "source": [
    "from sklearn.dummy import DummyClassifier\n",
    "from sklearn.metrics import accuracy_score\n",
    "\n",
    "# Create a Dummy Classifier that predicts the most frequent class\n",
    "baseline_model = DummyClassifier(strategy='most_frequent')\n",
    "\n",
    "# Fit and predict\n",
    "baseline_model.fit(features_train, target_train)\n",
    "baseline_predictions = baseline_model.predict(features_test)\n",
    "\n",
    "# Calculate accuracy\n",
    "baseline_accuracy = accuracy_score(target_test, baseline_predictions)\n",
    "print(f\"Baseline Accuracy: {baseline_accuracy}\")"
   ]
  },
  {
   "cell_type": "markdown",
   "metadata": {},
   "source": [
    "<span style = 'color:Blue'>CONCLUSION: This was a great project as an Intro to Machine Learning because it required building a model based on data we already worked on and are familiar with from previous projects. This gave a good insight onto how model building can help further analyze a dataset and predict the right parameters as desired. In this project, the goal was to simply build the right model based on the highest accuracy. In order to accomplish this task, we needed to first distinugish between Classifier and Regressor models since both are used in different cases. Given that our target is a categorical column, we need to use a classifier model but we still don't know which one to choose from Decision Tree, Random Forest and Logistic Regression (These are the 3 we learned about in this Sprint). As such, we needed to build 3 different models and test the accuracy for each and choose the one with the highest accuracy as that will have the greatest chance of picking the optimum results. In building each model it was important to keep in mind the hyperparameters as tuning them could help improve the accuracy of the model. After picking the model based on the best yielding hyperparameters, each model was then test on the Test Set against the threshold accuracy of 0.75. Based on the results, we see that only Decision Tree and Random Forest yield a higher accuracy than the threshold, Logistic Regression does not regardless of the tuning of hyperparameters. Furthermore, comparing the test accuracy from each model, we see that Random Forest Classifier Model yields the highest accuracy and is the winner in this contest of models. We finally perform a Sanity Check by creating a DummyClassifier model and testing the accuracy on the Test Set the same as we did for the 3 models before and the results show that our built models do have a higher accuracy than the Dummy Model. This implies that the models we created is indeed learning rather than guessing. In Conclusion, this project showed how to develop different models for the same dataset and choosing the best one based on Accuracy tested on a Test set and also comparing it to a Dummy Model."
   ]
  },
  {
   "cell_type": "code",
   "execution_count": null,
   "metadata": {},
   "outputs": [],
   "source": []
  }
 ],
 "metadata": {
  "ExecuteTimeLog": [
   {
    "duration": 159,
    "start_time": "2025-05-07T17:40:32.558Z"
   },
   {
    "duration": 11,
    "start_time": "2025-05-07T17:40:35.622Z"
   },
   {
    "duration": 350,
    "start_time": "2025-05-07T17:40:38.800Z"
   },
   {
    "duration": 376,
    "start_time": "2025-05-07T17:40:39.202Z"
   },
   {
    "duration": 11,
    "start_time": "2025-05-07T17:40:39.607Z"
   },
   {
    "duration": 2,
    "start_time": "2025-05-07T17:40:55.959Z"
   },
   {
    "duration": 61,
    "start_time": "2025-05-07T17:40:55.964Z"
   },
   {
    "duration": 0,
    "start_time": "2025-05-07T17:40:56.026Z"
   },
   {
    "duration": 3,
    "start_time": "2025-05-07T17:41:21.177Z"
   },
   {
    "duration": 60,
    "start_time": "2025-05-07T17:41:21.182Z"
   },
   {
    "duration": 0,
    "start_time": "2025-05-07T17:41:21.243Z"
   },
   {
    "duration": 2,
    "start_time": "2025-05-07T17:42:58.857Z"
   },
   {
    "duration": 70,
    "start_time": "2025-05-07T17:43:01.305Z"
   },
   {
    "duration": 3,
    "start_time": "2025-05-07T17:43:47.312Z"
   },
   {
    "duration": 8,
    "start_time": "2025-05-07T17:43:47.317Z"
   },
   {
    "duration": 14,
    "start_time": "2025-05-07T17:43:47.326Z"
   },
   {
    "duration": 3,
    "start_time": "2025-05-07T17:44:05.165Z"
   },
   {
    "duration": 58,
    "start_time": "2025-05-07T17:44:05.520Z"
   },
   {
    "duration": 11,
    "start_time": "2025-05-07T17:44:05.897Z"
   },
   {
    "duration": 2,
    "start_time": "2025-05-07T17:44:13.725Z"
   },
   {
    "duration": 57,
    "start_time": "2025-05-07T17:44:13.731Z"
   },
   {
    "duration": 0,
    "start_time": "2025-05-07T17:44:13.790Z"
   },
   {
    "duration": 57,
    "start_time": "2025-05-07T17:44:17.235Z"
   },
   {
    "duration": 13,
    "start_time": "2025-05-07T17:44:24.322Z"
   },
   {
    "duration": 25,
    "start_time": "2025-05-07T17:47:07.748Z"
   },
   {
    "duration": 27,
    "start_time": "2025-05-07T17:47:16.193Z"
   },
   {
    "duration": 25,
    "start_time": "2025-05-07T17:47:23.105Z"
   },
   {
    "duration": 25,
    "start_time": "2025-05-07T17:47:36.042Z"
   },
   {
    "duration": 10,
    "start_time": "2025-05-07T17:47:43.874Z"
   },
   {
    "duration": 16,
    "start_time": "2025-05-07T17:48:23.300Z"
   },
   {
    "duration": 8,
    "start_time": "2025-05-07T17:48:53.546Z"
   },
   {
    "duration": 13,
    "start_time": "2025-05-07T17:49:45.915Z"
   },
   {
    "duration": 9,
    "start_time": "2025-05-07T17:49:48.932Z"
   },
   {
    "duration": 14,
    "start_time": "2025-05-07T17:49:56.165Z"
   },
   {
    "duration": 6,
    "start_time": "2025-05-07T17:50:00.843Z"
   },
   {
    "duration": 5,
    "start_time": "2025-05-07T17:50:04.963Z"
   },
   {
    "duration": 8,
    "start_time": "2025-05-07T17:50:25.020Z"
   },
   {
    "duration": 6,
    "start_time": "2025-05-07T17:50:32.315Z"
   },
   {
    "duration": 14,
    "start_time": "2025-05-07T17:50:44.911Z"
   },
   {
    "duration": 6,
    "start_time": "2025-05-07T17:50:50.051Z"
   },
   {
    "duration": 5,
    "start_time": "2025-05-07T17:50:53.546Z"
   },
   {
    "duration": 11,
    "start_time": "2025-05-07T17:51:26.370Z"
   },
   {
    "duration": 10,
    "start_time": "2025-05-07T17:51:29.106Z"
   },
   {
    "duration": 6,
    "start_time": "2025-05-07T17:51:52.086Z"
   },
   {
    "duration": 2,
    "start_time": "2025-05-07T18:02:05.425Z"
   },
   {
    "duration": 15,
    "start_time": "2025-05-07T18:02:05.430Z"
   },
   {
    "duration": 10,
    "start_time": "2025-05-07T18:02:05.446Z"
   },
   {
    "duration": 5,
    "start_time": "2025-05-07T18:02:05.458Z"
   },
   {
    "duration": 12,
    "start_time": "2025-05-07T18:28:05.861Z"
   },
   {
    "duration": 517,
    "start_time": "2025-05-07T18:28:19.715Z"
   },
   {
    "duration": 14,
    "start_time": "2025-05-07T18:28:20.235Z"
   },
   {
    "duration": 11,
    "start_time": "2025-05-07T18:28:20.251Z"
   },
   {
    "duration": 23,
    "start_time": "2025-05-07T18:28:20.264Z"
   },
   {
    "duration": 708,
    "start_time": "2025-05-07T18:28:20.289Z"
   },
   {
    "duration": 0,
    "start_time": "2025-05-07T18:28:20.999Z"
   },
   {
    "duration": 0,
    "start_time": "2025-05-07T18:28:21.000Z"
   },
   {
    "duration": 2,
    "start_time": "2025-05-07T18:28:31.534Z"
   },
   {
    "duration": 15,
    "start_time": "2025-05-07T18:28:31.538Z"
   },
   {
    "duration": 11,
    "start_time": "2025-05-07T18:28:31.555Z"
   },
   {
    "duration": 5,
    "start_time": "2025-05-07T18:28:31.567Z"
   },
   {
    "duration": 3,
    "start_time": "2025-05-07T18:28:31.574Z"
   },
   {
    "duration": 6,
    "start_time": "2025-05-07T18:28:31.578Z"
   },
   {
    "duration": 10,
    "start_time": "2025-05-07T18:28:31.585Z"
   },
   {
    "duration": 9,
    "start_time": "2025-05-07T18:28:48.743Z"
   },
   {
    "duration": 8,
    "start_time": "2025-05-07T18:29:09.216Z"
   },
   {
    "duration": 14,
    "start_time": "2025-05-07T18:29:25.950Z"
   },
   {
    "duration": 13,
    "start_time": "2025-05-07T18:29:37.429Z"
   },
   {
    "duration": 11,
    "start_time": "2025-05-07T18:29:41.294Z"
   },
   {
    "duration": 10,
    "start_time": "2025-05-07T18:29:54.406Z"
   },
   {
    "duration": 8,
    "start_time": "2025-05-07T18:30:04.680Z"
   },
   {
    "duration": 3,
    "start_time": "2025-05-07T18:30:22.719Z"
   },
   {
    "duration": 3,
    "start_time": "2025-05-07T18:30:53.253Z"
   },
   {
    "duration": 2,
    "start_time": "2025-05-07T18:39:45.236Z"
   },
   {
    "duration": 15,
    "start_time": "2025-05-07T18:39:45.241Z"
   },
   {
    "duration": 11,
    "start_time": "2025-05-07T18:39:45.258Z"
   },
   {
    "duration": 5,
    "start_time": "2025-05-07T18:39:45.270Z"
   },
   {
    "duration": 3,
    "start_time": "2025-05-07T18:39:45.277Z"
   },
   {
    "duration": 16,
    "start_time": "2025-05-07T18:39:45.281Z"
   },
   {
    "duration": 0,
    "start_time": "2025-05-07T18:39:45.299Z"
   },
   {
    "duration": 0,
    "start_time": "2025-05-07T18:39:45.301Z"
   },
   {
    "duration": 0,
    "start_time": "2025-05-07T18:39:45.302Z"
   },
   {
    "duration": 0,
    "start_time": "2025-05-07T18:39:45.303Z"
   },
   {
    "duration": 7,
    "start_time": "2025-05-07T18:40:43.866Z"
   },
   {
    "duration": 3,
    "start_time": "2025-05-07T18:40:46.321Z"
   },
   {
    "duration": 27,
    "start_time": "2025-05-07T18:40:49.908Z"
   },
   {
    "duration": 791,
    "start_time": "2025-05-08T20:19:17.262Z"
   },
   {
    "duration": 24,
    "start_time": "2025-05-08T20:19:18.055Z"
   },
   {
    "duration": 10,
    "start_time": "2025-05-08T20:19:18.080Z"
   },
   {
    "duration": 5,
    "start_time": "2025-05-08T20:19:18.092Z"
   },
   {
    "duration": 3,
    "start_time": "2025-05-08T20:19:18.111Z"
   },
   {
    "duration": 7,
    "start_time": "2025-05-08T20:19:18.117Z"
   },
   {
    "duration": 3,
    "start_time": "2025-05-08T20:19:18.126Z"
   },
   {
    "duration": 78,
    "start_time": "2025-05-08T20:19:18.131Z"
   },
   {
    "duration": 286,
    "start_time": "2025-05-08T20:19:18.214Z"
   },
   {
    "duration": 0,
    "start_time": "2025-05-08T20:19:18.509Z"
   },
   {
    "duration": 27,
    "start_time": "2025-05-08T20:36:07.512Z"
   },
   {
    "duration": 3,
    "start_time": "2025-05-08T20:36:10.745Z"
   },
   {
    "duration": 20,
    "start_time": "2025-05-08T20:36:10.751Z"
   },
   {
    "duration": 11,
    "start_time": "2025-05-08T20:36:10.773Z"
   },
   {
    "duration": 5,
    "start_time": "2025-05-08T20:36:10.786Z"
   },
   {
    "duration": 4,
    "start_time": "2025-05-08T20:36:11.083Z"
   },
   {
    "duration": 7,
    "start_time": "2025-05-08T20:36:11.092Z"
   },
   {
    "duration": 3,
    "start_time": "2025-05-08T20:36:11.103Z"
   },
   {
    "duration": 77,
    "start_time": "2025-05-08T20:36:11.125Z"
   },
   {
    "duration": 25,
    "start_time": "2025-05-08T20:36:11.204Z"
   },
   {
    "duration": 0,
    "start_time": "2025-05-08T20:36:11.236Z"
   },
   {
    "duration": 34,
    "start_time": "2025-05-08T20:37:22.039Z"
   },
   {
    "duration": 153,
    "start_time": "2025-05-08T20:37:28.277Z"
   },
   {
    "duration": 159,
    "start_time": "2025-05-08T20:39:08.500Z"
   },
   {
    "duration": 162,
    "start_time": "2025-05-08T20:41:52.675Z"
   },
   {
    "duration": 171,
    "start_time": "2025-05-08T20:41:57.259Z"
   },
   {
    "duration": 152,
    "start_time": "2025-05-08T20:42:28.161Z"
   },
   {
    "duration": 149,
    "start_time": "2025-05-08T20:42:47.468Z"
   },
   {
    "duration": 155,
    "start_time": "2025-05-08T20:43:54.736Z"
   },
   {
    "duration": 158,
    "start_time": "2025-05-08T20:44:09.716Z"
   },
   {
    "duration": 8,
    "start_time": "2025-05-08T21:00:32.135Z"
   },
   {
    "duration": 137,
    "start_time": "2025-05-08T21:00:42.245Z"
   },
   {
    "duration": 137,
    "start_time": "2025-05-08T21:01:21.325Z"
   },
   {
    "duration": 57,
    "start_time": "2025-05-08T21:01:34.569Z"
   },
   {
    "duration": 70,
    "start_time": "2025-05-08T21:01:48.855Z"
   },
   {
    "duration": 56,
    "start_time": "2025-05-08T21:02:07.830Z"
   },
   {
    "duration": 56,
    "start_time": "2025-05-08T21:02:17.770Z"
   },
   {
    "duration": 57,
    "start_time": "2025-05-08T21:02:33.162Z"
   },
   {
    "duration": 55,
    "start_time": "2025-05-08T21:04:44.995Z"
   },
   {
    "duration": 59,
    "start_time": "2025-05-08T21:04:55.224Z"
   },
   {
    "duration": 57,
    "start_time": "2025-05-08T21:08:43.008Z"
   },
   {
    "duration": 55,
    "start_time": "2025-05-08T21:08:49.486Z"
   },
   {
    "duration": 4,
    "start_time": "2025-05-08T21:09:31.845Z"
   },
   {
    "duration": 58,
    "start_time": "2025-05-08T21:09:36.590Z"
   },
   {
    "duration": 56,
    "start_time": "2025-05-08T21:09:49.803Z"
   },
   {
    "duration": 55,
    "start_time": "2025-05-08T21:10:13.405Z"
   },
   {
    "duration": 55,
    "start_time": "2025-05-08T21:10:23.832Z"
   },
   {
    "duration": 55,
    "start_time": "2025-05-08T21:10:49.256Z"
   },
   {
    "duration": 57,
    "start_time": "2025-05-08T21:11:13.169Z"
   },
   {
    "duration": 60,
    "start_time": "2025-05-08T21:11:28.984Z"
   },
   {
    "duration": 56,
    "start_time": "2025-05-08T21:11:44.614Z"
   },
   {
    "duration": 56,
    "start_time": "2025-05-08T21:12:29.554Z"
   },
   {
    "duration": 56,
    "start_time": "2025-05-08T21:12:33.984Z"
   },
   {
    "duration": 70,
    "start_time": "2025-05-08T21:12:37.716Z"
   },
   {
    "duration": 54,
    "start_time": "2025-05-08T21:14:46.777Z"
   },
   {
    "duration": 56,
    "start_time": "2025-05-08T21:14:51.046Z"
   },
   {
    "duration": 63,
    "start_time": "2025-05-08T21:14:54.969Z"
   },
   {
    "duration": 56,
    "start_time": "2025-05-08T21:15:32.640Z"
   },
   {
    "duration": 56,
    "start_time": "2025-05-08T21:17:39.962Z"
   },
   {
    "duration": 57,
    "start_time": "2025-05-08T21:17:57.752Z"
   },
   {
    "duration": 2,
    "start_time": "2025-05-08T21:18:43.247Z"
   },
   {
    "duration": 5,
    "start_time": "2025-05-08T21:19:19.144Z"
   },
   {
    "duration": 6,
    "start_time": "2025-05-08T21:20:03.528Z"
   },
   {
    "duration": 5,
    "start_time": "2025-05-08T21:20:22.002Z"
   },
   {
    "duration": 6,
    "start_time": "2025-05-08T21:20:26.932Z"
   },
   {
    "duration": 5,
    "start_time": "2025-05-08T21:20:32.560Z"
   },
   {
    "duration": 5,
    "start_time": "2025-05-08T21:20:37.393Z"
   },
   {
    "duration": 3,
    "start_time": "2025-05-08T21:21:07.085Z"
   },
   {
    "duration": 19,
    "start_time": "2025-05-08T21:21:07.091Z"
   },
   {
    "duration": 11,
    "start_time": "2025-05-08T21:21:07.111Z"
   },
   {
    "duration": 5,
    "start_time": "2025-05-08T21:21:07.123Z"
   },
   {
    "duration": 3,
    "start_time": "2025-05-08T21:21:07.130Z"
   },
   {
    "duration": 7,
    "start_time": "2025-05-08T21:21:07.135Z"
   },
   {
    "duration": 3,
    "start_time": "2025-05-08T21:21:07.144Z"
   },
   {
    "duration": 85,
    "start_time": "2025-05-08T21:21:07.149Z"
   },
   {
    "duration": 5,
    "start_time": "2025-05-08T21:21:07.235Z"
   },
   {
    "duration": 14,
    "start_time": "2025-05-08T21:21:07.242Z"
   },
   {
    "duration": 0,
    "start_time": "2025-05-08T21:21:07.258Z"
   },
   {
    "duration": 5,
    "start_time": "2025-05-08T21:23:11.940Z"
   },
   {
    "duration": 57,
    "start_time": "2025-05-08T21:26:34.019Z"
   },
   {
    "duration": 5,
    "start_time": "2025-05-08T21:26:37.014Z"
   },
   {
    "duration": 14,
    "start_time": "2025-05-08T21:26:47.106Z"
   },
   {
    "duration": 57,
    "start_time": "2025-05-08T21:28:21.596Z"
   },
   {
    "duration": 6,
    "start_time": "2025-05-08T21:28:40.106Z"
   },
   {
    "duration": 5,
    "start_time": "2025-05-08T21:30:20.567Z"
   },
   {
    "duration": 56,
    "start_time": "2025-05-08T21:33:17.711Z"
   },
   {
    "duration": 57,
    "start_time": "2025-05-08T21:33:24.818Z"
   },
   {
    "duration": 6,
    "start_time": "2025-05-08T21:33:32.979Z"
   },
   {
    "duration": 67,
    "start_time": "2025-05-08T21:38:21.944Z"
   },
   {
    "duration": 14,
    "start_time": "2025-05-08T21:38:58.648Z"
   },
   {
    "duration": 13,
    "start_time": "2025-05-08T21:39:29.369Z"
   },
   {
    "duration": 27,
    "start_time": "2025-05-08T21:39:56.221Z"
   },
   {
    "duration": 13,
    "start_time": "2025-05-08T21:40:08.633Z"
   },
   {
    "duration": 12,
    "start_time": "2025-05-08T21:41:23.815Z"
   },
   {
    "duration": 12,
    "start_time": "2025-05-08T21:42:01.287Z"
   },
   {
    "duration": 3,
    "start_time": "2025-05-08T21:42:15.375Z"
   },
   {
    "duration": 16,
    "start_time": "2025-05-08T21:42:15.380Z"
   },
   {
    "duration": 11,
    "start_time": "2025-05-08T21:42:15.398Z"
   },
   {
    "duration": 5,
    "start_time": "2025-05-08T21:42:15.411Z"
   },
   {
    "duration": 4,
    "start_time": "2025-05-08T21:42:15.417Z"
   },
   {
    "duration": 7,
    "start_time": "2025-05-08T21:42:15.422Z"
   },
   {
    "duration": 3,
    "start_time": "2025-05-08T21:42:15.430Z"
   },
   {
    "duration": 74,
    "start_time": "2025-05-08T21:42:15.435Z"
   },
   {
    "duration": 11,
    "start_time": "2025-05-08T21:42:15.510Z"
   },
   {
    "duration": 15,
    "start_time": "2025-05-08T21:42:15.524Z"
   },
   {
    "duration": 0,
    "start_time": "2025-05-08T21:42:15.540Z"
   },
   {
    "duration": 13,
    "start_time": "2025-05-08T21:43:16.471Z"
   },
   {
    "duration": 22,
    "start_time": "2025-05-08T21:43:23.102Z"
   },
   {
    "duration": 5,
    "start_time": "2025-05-08T21:48:50.832Z"
   },
   {
    "duration": 6,
    "start_time": "2025-05-08T21:50:23.350Z"
   },
   {
    "duration": 5,
    "start_time": "2025-05-08T21:50:33.253Z"
   },
   {
    "duration": 62,
    "start_time": "2025-05-08T21:50:53.563Z"
   },
   {
    "duration": 57,
    "start_time": "2025-05-08T21:57:00.410Z"
   },
   {
    "duration": 3,
    "start_time": "2025-05-08T21:57:14.834Z"
   },
   {
    "duration": 17,
    "start_time": "2025-05-08T21:57:14.846Z"
   },
   {
    "duration": 11,
    "start_time": "2025-05-08T21:57:14.865Z"
   },
   {
    "duration": 5,
    "start_time": "2025-05-08T21:57:14.877Z"
   },
   {
    "duration": 4,
    "start_time": "2025-05-08T21:57:14.883Z"
   },
   {
    "duration": 6,
    "start_time": "2025-05-08T21:57:14.889Z"
   },
   {
    "duration": 4,
    "start_time": "2025-05-08T21:57:14.896Z"
   },
   {
    "duration": 60,
    "start_time": "2025-05-08T21:57:14.901Z"
   },
   {
    "duration": 5,
    "start_time": "2025-05-08T21:57:14.963Z"
   },
   {
    "duration": 18,
    "start_time": "2025-05-08T21:57:14.969Z"
   },
   {
    "duration": 0,
    "start_time": "2025-05-08T21:57:14.988Z"
   },
   {
    "duration": 57,
    "start_time": "2025-05-08T21:58:12.349Z"
   },
   {
    "duration": 56,
    "start_time": "2025-05-08T21:58:26.824Z"
   },
   {
    "duration": 65,
    "start_time": "2025-05-08T21:58:46.014Z"
   },
   {
    "duration": 56,
    "start_time": "2025-05-08T21:58:56.675Z"
   },
   {
    "duration": 5,
    "start_time": "2025-05-08T22:01:49.384Z"
   },
   {
    "duration": 6,
    "start_time": "2025-05-08T22:03:39.038Z"
   },
   {
    "duration": 5,
    "start_time": "2025-05-08T22:05:23.384Z"
   },
   {
    "duration": 16,
    "start_time": "2025-05-08T22:07:01.176Z"
   },
   {
    "duration": 3,
    "start_time": "2025-05-08T22:07:33.477Z"
   },
   {
    "duration": 17,
    "start_time": "2025-05-08T22:07:33.483Z"
   },
   {
    "duration": 10,
    "start_time": "2025-05-08T22:07:33.502Z"
   },
   {
    "duration": 6,
    "start_time": "2025-05-08T22:07:33.515Z"
   },
   {
    "duration": 3,
    "start_time": "2025-05-08T22:07:33.522Z"
   },
   {
    "duration": 7,
    "start_time": "2025-05-08T22:07:33.527Z"
   },
   {
    "duration": 4,
    "start_time": "2025-05-08T22:07:33.535Z"
   },
   {
    "duration": 78,
    "start_time": "2025-05-08T22:07:33.540Z"
   },
   {
    "duration": 5,
    "start_time": "2025-05-08T22:07:33.622Z"
   },
   {
    "duration": 48,
    "start_time": "2025-05-08T22:07:33.630Z"
   },
   {
    "duration": 0,
    "start_time": "2025-05-08T22:07:33.679Z"
   },
   {
    "duration": 73,
    "start_time": "2025-05-08T22:07:42.207Z"
   },
   {
    "duration": 60,
    "start_time": "2025-05-08T22:07:57.792Z"
   },
   {
    "duration": 532,
    "start_time": "2025-05-08T22:08:10.907Z"
   },
   {
    "duration": 516,
    "start_time": "2025-05-08T22:08:17.493Z"
   },
   {
    "duration": 6,
    "start_time": "2025-05-08T22:08:25.872Z"
   },
   {
    "duration": 1001,
    "start_time": "2025-05-08T22:08:28.801Z"
   },
   {
    "duration": 1613,
    "start_time": "2025-05-08T22:08:33.515Z"
   },
   {
    "duration": 50,
    "start_time": "2025-05-08T22:10:35.665Z"
   },
   {
    "duration": 27,
    "start_time": "2025-05-08T22:10:46.219Z"
   },
   {
    "duration": 30,
    "start_time": "2025-05-08T22:10:56.629Z"
   },
   {
    "duration": 40,
    "start_time": "2025-05-08T22:11:29.326Z"
   },
   {
    "duration": 35,
    "start_time": "2025-05-08T22:13:59.708Z"
   },
   {
    "duration": 5,
    "start_time": "2025-05-08T22:16:21.568Z"
   },
   {
    "duration": 29,
    "start_time": "2025-05-08T22:16:29.209Z"
   },
   {
    "duration": 25,
    "start_time": "2025-05-08T22:16:44.776Z"
   },
   {
    "duration": 30,
    "start_time": "2025-05-08T22:16:57.008Z"
   },
   {
    "duration": 25,
    "start_time": "2025-05-08T22:16:59.480Z"
   },
   {
    "duration": 33,
    "start_time": "2025-05-08T22:17:06.177Z"
   },
   {
    "duration": 12,
    "start_time": "2025-05-08T22:17:09.508Z"
   },
   {
    "duration": 26,
    "start_time": "2025-05-08T22:17:13.609Z"
   },
   {
    "duration": 26,
    "start_time": "2025-05-08T22:17:17.380Z"
   },
   {
    "duration": 5,
    "start_time": "2025-05-08T22:20:15.635Z"
   },
   {
    "duration": 17,
    "start_time": "2025-05-08T22:21:34.194Z"
   },
   {
    "duration": 7,
    "start_time": "2025-05-08T22:21:34.909Z"
   },
   {
    "duration": 25,
    "start_time": "2025-05-08T22:26:21.441Z"
   },
   {
    "duration": 9,
    "start_time": "2025-05-08T22:26:46.775Z"
   },
   {
    "duration": 6,
    "start_time": "2025-05-08T22:26:47.447Z"
   },
   {
    "duration": 4,
    "start_time": "2025-05-08T22:28:17.565Z"
   },
   {
    "duration": 33,
    "start_time": "2025-05-08T22:28:17.571Z"
   },
   {
    "duration": 14,
    "start_time": "2025-05-08T22:28:17.608Z"
   },
   {
    "duration": 12,
    "start_time": "2025-05-08T22:28:17.627Z"
   },
   {
    "duration": 4,
    "start_time": "2025-05-08T22:28:17.641Z"
   },
   {
    "duration": 8,
    "start_time": "2025-05-08T22:28:17.647Z"
   },
   {
    "duration": 4,
    "start_time": "2025-05-08T22:28:17.657Z"
   },
   {
    "duration": 90,
    "start_time": "2025-05-08T22:28:17.663Z"
   },
   {
    "duration": 6,
    "start_time": "2025-05-08T22:28:17.758Z"
   },
   {
    "duration": 2089,
    "start_time": "2025-05-08T22:28:17.766Z"
   },
   {
    "duration": 27,
    "start_time": "2025-05-08T22:28:19.857Z"
   },
   {
    "duration": 26,
    "start_time": "2025-05-08T22:28:19.886Z"
   },
   {
    "duration": 11,
    "start_time": "2025-05-08T22:28:19.914Z"
   },
   {
    "duration": 3,
    "start_time": "2025-05-08T22:28:44.044Z"
   },
   {
    "duration": 21,
    "start_time": "2025-05-08T22:28:44.050Z"
   },
   {
    "duration": 12,
    "start_time": "2025-05-08T22:28:44.072Z"
   },
   {
    "duration": 6,
    "start_time": "2025-05-08T22:28:44.086Z"
   },
   {
    "duration": 4,
    "start_time": "2025-05-08T22:28:44.095Z"
   },
   {
    "duration": 6,
    "start_time": "2025-05-08T22:28:44.101Z"
   },
   {
    "duration": 4,
    "start_time": "2025-05-08T22:28:44.109Z"
   },
   {
    "duration": 68,
    "start_time": "2025-05-08T22:28:44.115Z"
   },
   {
    "duration": 6,
    "start_time": "2025-05-08T22:28:44.185Z"
   },
   {
    "duration": 2084,
    "start_time": "2025-05-08T22:28:44.210Z"
   },
   {
    "duration": 24,
    "start_time": "2025-05-08T22:28:46.297Z"
   },
   {
    "duration": 11,
    "start_time": "2025-05-08T22:28:46.323Z"
   },
   {
    "duration": 7,
    "start_time": "2025-05-08T22:28:46.336Z"
   },
   {
    "duration": 3,
    "start_time": "2025-05-08T22:29:09.139Z"
   },
   {
    "duration": 14,
    "start_time": "2025-05-08T22:29:09.147Z"
   },
   {
    "duration": 11,
    "start_time": "2025-05-08T22:29:09.163Z"
   },
   {
    "duration": 5,
    "start_time": "2025-05-08T22:29:09.176Z"
   },
   {
    "duration": 4,
    "start_time": "2025-05-08T22:29:09.183Z"
   },
   {
    "duration": 6,
    "start_time": "2025-05-08T22:29:09.190Z"
   },
   {
    "duration": 3,
    "start_time": "2025-05-08T22:29:09.199Z"
   },
   {
    "duration": 62,
    "start_time": "2025-05-08T22:29:09.209Z"
   },
   {
    "duration": 6,
    "start_time": "2025-05-08T22:29:09.273Z"
   },
   {
    "duration": 1642,
    "start_time": "2025-05-08T22:29:09.281Z"
   },
   {
    "duration": 24,
    "start_time": "2025-05-08T22:29:10.925Z"
   },
   {
    "duration": 9,
    "start_time": "2025-05-08T22:29:10.950Z"
   },
   {
    "duration": 9,
    "start_time": "2025-05-08T22:29:10.960Z"
   },
   {
    "duration": 3,
    "start_time": "2025-05-08T22:29:32.768Z"
   },
   {
    "duration": 14,
    "start_time": "2025-05-08T22:29:32.775Z"
   },
   {
    "duration": 13,
    "start_time": "2025-05-08T22:29:32.791Z"
   },
   {
    "duration": 7,
    "start_time": "2025-05-08T22:29:32.805Z"
   },
   {
    "duration": 3,
    "start_time": "2025-05-08T22:29:32.815Z"
   },
   {
    "duration": 7,
    "start_time": "2025-05-08T22:29:32.820Z"
   },
   {
    "duration": 3,
    "start_time": "2025-05-08T22:29:32.829Z"
   },
   {
    "duration": 48,
    "start_time": "2025-05-08T22:29:32.833Z"
   },
   {
    "duration": 30,
    "start_time": "2025-05-08T22:29:32.883Z"
   },
   {
    "duration": 1184,
    "start_time": "2025-05-08T22:29:32.916Z"
   },
   {
    "duration": 39,
    "start_time": "2025-05-08T22:29:34.109Z"
   },
   {
    "duration": 9,
    "start_time": "2025-05-08T22:29:34.150Z"
   },
   {
    "duration": 7,
    "start_time": "2025-05-08T22:29:34.161Z"
   },
   {
    "duration": 3,
    "start_time": "2025-05-08T22:29:57.881Z"
   },
   {
    "duration": 16,
    "start_time": "2025-05-08T22:29:57.886Z"
   },
   {
    "duration": 12,
    "start_time": "2025-05-08T22:29:57.904Z"
   },
   {
    "duration": 6,
    "start_time": "2025-05-08T22:29:57.918Z"
   },
   {
    "duration": 3,
    "start_time": "2025-05-08T22:29:57.927Z"
   },
   {
    "duration": 9,
    "start_time": "2025-05-08T22:29:57.931Z"
   },
   {
    "duration": 4,
    "start_time": "2025-05-08T22:29:57.942Z"
   },
   {
    "duration": 94,
    "start_time": "2025-05-08T22:29:57.948Z"
   },
   {
    "duration": 5,
    "start_time": "2025-05-08T22:29:58.045Z"
   },
   {
    "duration": 1668,
    "start_time": "2025-05-08T22:29:58.052Z"
   },
   {
    "duration": 28,
    "start_time": "2025-05-08T22:29:59.722Z"
   },
   {
    "duration": 17,
    "start_time": "2025-05-08T22:29:59.752Z"
   },
   {
    "duration": 8,
    "start_time": "2025-05-08T22:29:59.770Z"
   },
   {
    "duration": 10,
    "start_time": "2025-05-08T22:30:15.234Z"
   },
   {
    "duration": 7,
    "start_time": "2025-05-08T22:30:16.006Z"
   },
   {
    "duration": 11,
    "start_time": "2025-05-08T22:30:20.497Z"
   },
   {
    "duration": 9,
    "start_time": "2025-05-08T22:30:21.631Z"
   },
   {
    "duration": 9,
    "start_time": "2025-05-08T22:31:52.881Z"
   },
   {
    "duration": 5,
    "start_time": "2025-05-08T22:31:59.694Z"
   },
   {
    "duration": 775,
    "start_time": "2025-05-09T14:52:34.261Z"
   },
   {
    "duration": 29,
    "start_time": "2025-05-09T14:52:35.038Z"
   },
   {
    "duration": 11,
    "start_time": "2025-05-09T14:52:35.068Z"
   },
   {
    "duration": 5,
    "start_time": "2025-05-09T14:52:35.081Z"
   },
   {
    "duration": 2,
    "start_time": "2025-05-09T14:52:35.089Z"
   },
   {
    "duration": 16,
    "start_time": "2025-05-09T14:52:35.093Z"
   },
   {
    "duration": 2,
    "start_time": "2025-05-09T14:52:35.111Z"
   },
   {
    "duration": 56,
    "start_time": "2025-05-09T14:52:35.115Z"
   },
   {
    "duration": 243,
    "start_time": "2025-05-09T14:52:35.173Z"
   },
   {
    "duration": 0,
    "start_time": "2025-05-09T14:52:35.417Z"
   },
   {
    "duration": 0,
    "start_time": "2025-05-09T14:52:35.419Z"
   },
   {
    "duration": 0,
    "start_time": "2025-05-09T14:52:35.420Z"
   },
   {
    "duration": 0,
    "start_time": "2025-05-09T14:52:35.421Z"
   },
   {
    "duration": 0,
    "start_time": "2025-05-09T14:52:35.422Z"
   },
   {
    "duration": 3,
    "start_time": "2025-05-09T14:55:27.738Z"
   },
   {
    "duration": 17,
    "start_time": "2025-05-09T14:55:27.743Z"
   },
   {
    "duration": 11,
    "start_time": "2025-05-09T14:55:27.761Z"
   },
   {
    "duration": 5,
    "start_time": "2025-05-09T14:55:27.775Z"
   },
   {
    "duration": 3,
    "start_time": "2025-05-09T14:55:27.782Z"
   },
   {
    "duration": 6,
    "start_time": "2025-05-09T14:55:27.787Z"
   },
   {
    "duration": 3,
    "start_time": "2025-05-09T14:55:27.794Z"
   },
   {
    "duration": 60,
    "start_time": "2025-05-09T14:55:27.799Z"
   },
   {
    "duration": 15,
    "start_time": "2025-05-09T14:55:27.861Z"
   },
   {
    "duration": 0,
    "start_time": "2025-05-09T14:55:27.878Z"
   },
   {
    "duration": 0,
    "start_time": "2025-05-09T14:55:27.879Z"
   },
   {
    "duration": 0,
    "start_time": "2025-05-09T14:55:27.880Z"
   },
   {
    "duration": 0,
    "start_time": "2025-05-09T14:55:27.882Z"
   },
   {
    "duration": 0,
    "start_time": "2025-05-09T14:55:27.883Z"
   },
   {
    "duration": 6,
    "start_time": "2025-05-09T14:57:40.204Z"
   },
   {
    "duration": 1563,
    "start_time": "2025-05-09T14:57:42.734Z"
   },
   {
    "duration": 30,
    "start_time": "2025-05-09T14:57:46.505Z"
   },
   {
    "duration": 10,
    "start_time": "2025-05-09T14:57:50.640Z"
   },
   {
    "duration": 138,
    "start_time": "2025-05-09T14:58:15.410Z"
   },
   {
    "duration": 9,
    "start_time": "2025-05-09T14:58:40.775Z"
   },
   {
    "duration": 10175,
    "start_time": "2025-05-09T15:03:34.245Z"
   },
   {
    "duration": 10199,
    "start_time": "2025-05-09T15:05:42.391Z"
   },
   {
    "duration": 20,
    "start_time": "2025-05-09T15:06:06.659Z"
   },
   {
    "duration": 721,
    "start_time": "2025-05-09T15:06:21.999Z"
   },
   {
    "duration": 10,
    "start_time": "2025-05-09T15:14:03.782Z"
   },
   {
    "duration": 150,
    "start_time": "2025-05-09T15:14:14.334Z"
   },
   {
    "duration": 10,
    "start_time": "2025-05-09T15:14:25.393Z"
   },
   {
    "duration": 10,
    "start_time": "2025-05-09T15:14:39.681Z"
   },
   {
    "duration": 10,
    "start_time": "2025-05-09T15:14:46.073Z"
   },
   {
    "duration": 23,
    "start_time": "2025-05-09T15:15:02.724Z"
   },
   {
    "duration": 10,
    "start_time": "2025-05-09T15:15:18.389Z"
   },
   {
    "duration": 12,
    "start_time": "2025-05-09T15:16:56.610Z"
   },
   {
    "duration": 12,
    "start_time": "2025-05-09T15:17:20.806Z"
   },
   {
    "duration": 11,
    "start_time": "2025-05-09T15:17:35.568Z"
   },
   {
    "duration": 10,
    "start_time": "2025-05-09T15:17:56.527Z"
   },
   {
    "duration": 10,
    "start_time": "2025-05-09T15:18:04.632Z"
   },
   {
    "duration": 7725,
    "start_time": "2025-05-09T15:20:01.134Z"
   },
   {
    "duration": 264,
    "start_time": "2025-05-09T15:20:41.962Z"
   },
   {
    "duration": 9,
    "start_time": "2025-05-09T15:26:23.226Z"
   },
   {
    "duration": 93,
    "start_time": "2025-05-09T15:26:46.046Z"
   },
   {
    "duration": 79,
    "start_time": "2025-05-09T15:27:18.570Z"
   },
   {
    "duration": 9,
    "start_time": "2025-05-09T15:27:39.365Z"
   },
   {
    "duration": 10,
    "start_time": "2025-05-09T15:27:53.788Z"
   },
   {
    "duration": 9,
    "start_time": "2025-05-09T15:27:59.873Z"
   },
   {
    "duration": 10,
    "start_time": "2025-05-09T15:28:07.218Z"
   },
   {
    "duration": 10,
    "start_time": "2025-05-09T15:28:14.838Z"
   },
   {
    "duration": 10,
    "start_time": "2025-05-09T15:28:19.781Z"
   },
   {
    "duration": 35,
    "start_time": "2025-05-09T15:29:00.053Z"
   },
   {
    "duration": 92,
    "start_time": "2025-05-09T15:29:10.397Z"
   },
   {
    "duration": 93,
    "start_time": "2025-05-09T15:29:44.217Z"
   },
   {
    "duration": 93,
    "start_time": "2025-05-09T15:30:09.513Z"
   },
   {
    "duration": 91,
    "start_time": "2025-05-09T15:30:50.105Z"
   },
   {
    "duration": 10,
    "start_time": "2025-05-09T15:31:11.682Z"
   },
   {
    "duration": 11,
    "start_time": "2025-05-09T15:31:33.204Z"
   },
   {
    "duration": 22,
    "start_time": "2025-05-09T15:31:53.064Z"
   },
   {
    "duration": 11,
    "start_time": "2025-05-09T15:32:26.341Z"
   },
   {
    "duration": 9,
    "start_time": "2025-05-09T15:32:38.130Z"
   },
   {
    "duration": 10,
    "start_time": "2025-05-09T15:32:45.629Z"
   },
   {
    "duration": 10,
    "start_time": "2025-05-09T15:32:52.315Z"
   },
   {
    "duration": 9,
    "start_time": "2025-05-09T15:32:58.686Z"
   },
   {
    "duration": 9,
    "start_time": "2025-05-09T15:33:05.224Z"
   },
   {
    "duration": 22,
    "start_time": "2025-05-09T15:33:38.013Z"
   },
   {
    "duration": 11,
    "start_time": "2025-05-09T15:33:58.125Z"
   },
   {
    "duration": 12,
    "start_time": "2025-05-09T15:34:13.275Z"
   },
   {
    "duration": 11,
    "start_time": "2025-05-09T15:34:20.266Z"
   },
   {
    "duration": 17,
    "start_time": "2025-05-09T15:37:48.656Z"
   },
   {
    "duration": 16,
    "start_time": "2025-05-09T15:38:23.544Z"
   },
   {
    "duration": 17,
    "start_time": "2025-05-09T15:38:52.618Z"
   },
   {
    "duration": 16,
    "start_time": "2025-05-09T15:39:07.953Z"
   },
   {
    "duration": 19,
    "start_time": "2025-05-09T15:39:55.378Z"
   },
   {
    "duration": 6,
    "start_time": "2025-05-09T15:40:20.461Z"
   },
   {
    "duration": 37,
    "start_time": "2025-05-09T15:40:56.308Z"
   },
   {
    "duration": 123,
    "start_time": "2025-05-09T15:42:20.987Z"
   },
   {
    "duration": 18,
    "start_time": "2025-05-09T15:43:05.850Z"
   },
   {
    "duration": 15,
    "start_time": "2025-05-09T15:43:22.081Z"
   },
   {
    "duration": 5,
    "start_time": "2025-05-09T15:43:29.288Z"
   },
   {
    "duration": 860,
    "start_time": "2025-05-09T20:50:53.829Z"
   },
   {
    "duration": 212,
    "start_time": "2025-05-09T20:50:57.818Z"
   },
   {
    "duration": 25,
    "start_time": "2025-05-09T20:50:58.032Z"
   },
   {
    "duration": 10,
    "start_time": "2025-05-09T20:50:58.059Z"
   },
   {
    "duration": 4,
    "start_time": "2025-05-09T20:50:58.071Z"
   },
   {
    "duration": 4,
    "start_time": "2025-05-09T20:50:58.078Z"
   },
   {
    "duration": 7,
    "start_time": "2025-05-09T20:50:58.083Z"
   },
   {
    "duration": 29,
    "start_time": "2025-05-09T20:50:58.091Z"
   },
   {
    "duration": 56,
    "start_time": "2025-05-09T20:50:58.122Z"
   },
   {
    "duration": 5,
    "start_time": "2025-05-09T20:50:58.179Z"
   },
   {
    "duration": 1587,
    "start_time": "2025-05-09T20:50:58.186Z"
   },
   {
    "duration": 26,
    "start_time": "2025-05-09T20:50:59.775Z"
   },
   {
    "duration": 56,
    "start_time": "2025-05-09T20:50:59.803Z"
   },
   {
    "duration": 0,
    "start_time": "2025-05-09T20:50:59.860Z"
   },
   {
    "duration": 0,
    "start_time": "2025-05-09T20:50:59.861Z"
   },
   {
    "duration": 4,
    "start_time": "2025-05-09T20:51:27.887Z"
   },
   {
    "duration": 16,
    "start_time": "2025-05-09T20:51:27.892Z"
   },
   {
    "duration": 11,
    "start_time": "2025-05-09T20:51:27.909Z"
   },
   {
    "duration": 6,
    "start_time": "2025-05-09T20:51:27.922Z"
   },
   {
    "duration": 2,
    "start_time": "2025-05-09T20:51:27.930Z"
   },
   {
    "duration": 6,
    "start_time": "2025-05-09T20:51:27.934Z"
   },
   {
    "duration": 4,
    "start_time": "2025-05-09T20:51:27.941Z"
   },
   {
    "duration": 74,
    "start_time": "2025-05-09T20:51:27.946Z"
   },
   {
    "duration": 5,
    "start_time": "2025-05-09T20:51:28.022Z"
   },
   {
    "duration": 1578,
    "start_time": "2025-05-09T20:51:28.029Z"
   },
   {
    "duration": 30,
    "start_time": "2025-05-09T20:51:29.610Z"
   },
   {
    "duration": 24,
    "start_time": "2025-05-09T20:51:29.641Z"
   },
   {
    "duration": 0,
    "start_time": "2025-05-09T20:51:29.667Z"
   },
   {
    "duration": 0,
    "start_time": "2025-05-09T20:51:29.668Z"
   },
   {
    "duration": 18,
    "start_time": "2025-05-09T20:52:32.843Z"
   },
   {
    "duration": 22,
    "start_time": "2025-05-09T20:52:46.422Z"
   },
   {
    "duration": 14,
    "start_time": "2025-05-09T20:52:50.487Z"
   },
   {
    "duration": 6,
    "start_time": "2025-05-09T20:57:34.890Z"
   },
   {
    "duration": 4,
    "start_time": "2025-05-09T21:05:29.529Z"
   },
   {
    "duration": 3,
    "start_time": "2025-05-09T21:05:59.815Z"
   },
   {
    "duration": 3,
    "start_time": "2025-05-09T21:06:47.302Z"
   },
   {
    "duration": 3,
    "start_time": "2025-05-09T21:06:55.712Z"
   },
   {
    "duration": 3,
    "start_time": "2025-05-09T21:07:05.154Z"
   },
   {
    "duration": 2,
    "start_time": "2025-05-09T21:07:08.287Z"
   },
   {
    "duration": 4,
    "start_time": "2025-05-09T21:07:13.237Z"
   },
   {
    "duration": 5,
    "start_time": "2025-05-09T21:08:34.165Z"
   },
   {
    "duration": 4,
    "start_time": "2025-05-09T21:08:46.107Z"
   },
   {
    "duration": 3,
    "start_time": "2025-05-09T21:08:48.776Z"
   },
   {
    "duration": 3,
    "start_time": "2025-05-09T21:09:00.695Z"
   },
   {
    "duration": 3,
    "start_time": "2025-05-09T21:09:02.713Z"
   },
   {
    "duration": 6,
    "start_time": "2025-05-09T21:09:06.172Z"
   },
   {
    "duration": 4,
    "start_time": "2025-05-09T21:09:12.500Z"
   },
   {
    "duration": 3,
    "start_time": "2025-05-09T21:09:16.842Z"
   },
   {
    "duration": 3,
    "start_time": "2025-05-09T21:09:41.310Z"
   },
   {
    "duration": 3,
    "start_time": "2025-05-09T21:10:41.556Z"
   },
   {
    "duration": 14,
    "start_time": "2025-05-09T21:10:44.736Z"
   },
   {
    "duration": 15,
    "start_time": "2025-05-09T21:10:53.874Z"
   },
   {
    "duration": 5,
    "start_time": "2025-05-09T21:11:03.334Z"
   },
   {
    "duration": 6,
    "start_time": "2025-05-09T21:11:09.793Z"
   },
   {
    "duration": 5,
    "start_time": "2025-05-09T21:11:23.135Z"
   },
   {
    "duration": 4,
    "start_time": "2025-05-09T21:11:57.461Z"
   },
   {
    "duration": 6,
    "start_time": "2025-05-09T21:14:06.181Z"
   },
   {
    "duration": 15,
    "start_time": "2025-05-09T21:14:15.379Z"
   },
   {
    "duration": 4,
    "start_time": "2025-05-09T21:14:18.499Z"
   },
   {
    "duration": 89,
    "start_time": "2025-05-09T21:14:21.877Z"
   },
   {
    "duration": 5,
    "start_time": "2025-05-09T21:14:25.503Z"
   },
   {
    "duration": 5,
    "start_time": "2025-05-09T21:14:32.397Z"
   },
   {
    "duration": 4,
    "start_time": "2025-05-09T21:14:39.629Z"
   },
   {
    "duration": 6,
    "start_time": "2025-05-09T21:14:42.034Z"
   },
   {
    "duration": 5,
    "start_time": "2025-05-09T21:15:00.447Z"
   },
   {
    "duration": 5,
    "start_time": "2025-05-09T21:15:03.371Z"
   },
   {
    "duration": 2,
    "start_time": "2025-05-09T21:15:06.178Z"
   },
   {
    "duration": 16,
    "start_time": "2025-05-09T21:15:06.187Z"
   },
   {
    "duration": 10,
    "start_time": "2025-05-09T21:15:06.205Z"
   },
   {
    "duration": 5,
    "start_time": "2025-05-09T21:15:06.218Z"
   },
   {
    "duration": 3,
    "start_time": "2025-05-09T21:15:06.224Z"
   },
   {
    "duration": 6,
    "start_time": "2025-05-09T21:15:06.230Z"
   },
   {
    "duration": 3,
    "start_time": "2025-05-09T21:15:06.237Z"
   },
   {
    "duration": 56,
    "start_time": "2025-05-09T21:15:06.242Z"
   },
   {
    "duration": 22,
    "start_time": "2025-05-09T21:15:06.299Z"
   },
   {
    "duration": 1553,
    "start_time": "2025-05-09T21:15:06.323Z"
   },
   {
    "duration": 26,
    "start_time": "2025-05-09T21:15:07.878Z"
   },
   {
    "duration": 25,
    "start_time": "2025-05-09T21:15:07.906Z"
   },
   {
    "duration": 7,
    "start_time": "2025-05-09T21:15:07.932Z"
   },
   {
    "duration": 4,
    "start_time": "2025-05-09T21:15:07.941Z"
   },
   {
    "duration": 15,
    "start_time": "2025-05-09T21:15:07.948Z"
   },
   {
    "duration": 0,
    "start_time": "2025-05-09T21:15:07.965Z"
   },
   {
    "duration": 0,
    "start_time": "2025-05-09T21:15:07.966Z"
   },
   {
    "duration": 5,
    "start_time": "2025-05-09T21:15:13.759Z"
   },
   {
    "duration": 7,
    "start_time": "2025-05-09T21:15:15.033Z"
   },
   {
    "duration": 26,
    "start_time": "2025-05-09T21:17:48.057Z"
   },
   {
    "duration": 5,
    "start_time": "2025-05-09T21:17:53.433Z"
   },
   {
    "duration": 6,
    "start_time": "2025-05-09T21:18:00.768Z"
   },
   {
    "duration": 6,
    "start_time": "2025-05-09T21:18:04.331Z"
   },
   {
    "duration": 12,
    "start_time": "2025-05-09T21:18:09.955Z"
   },
   {
    "duration": 73,
    "start_time": "2025-05-09T21:18:14.887Z"
   },
   {
    "duration": 5,
    "start_time": "2025-05-09T21:20:32.026Z"
   },
   {
    "duration": 3,
    "start_time": "2025-05-09T21:21:03.005Z"
   },
   {
    "duration": 5,
    "start_time": "2025-05-09T21:26:29.086Z"
   },
   {
    "duration": 6,
    "start_time": "2025-05-09T21:26:32.513Z"
   },
   {
    "duration": 5,
    "start_time": "2025-05-09T21:26:37.387Z"
   },
   {
    "duration": 2,
    "start_time": "2025-05-09T22:16:47.468Z"
   },
   {
    "duration": 15,
    "start_time": "2025-05-09T22:16:47.473Z"
   },
   {
    "duration": 11,
    "start_time": "2025-05-09T22:16:47.490Z"
   },
   {
    "duration": 5,
    "start_time": "2025-05-09T22:16:47.503Z"
   },
   {
    "duration": 3,
    "start_time": "2025-05-09T22:16:47.510Z"
   },
   {
    "duration": 6,
    "start_time": "2025-05-09T22:16:47.515Z"
   },
   {
    "duration": 3,
    "start_time": "2025-05-09T22:16:47.522Z"
   },
   {
    "duration": 55,
    "start_time": "2025-05-09T22:16:47.527Z"
   },
   {
    "duration": 5,
    "start_time": "2025-05-09T22:16:47.584Z"
   },
   {
    "duration": 1613,
    "start_time": "2025-05-09T22:16:47.592Z"
   },
   {
    "duration": 32,
    "start_time": "2025-05-09T22:16:49.207Z"
   },
   {
    "duration": 17,
    "start_time": "2025-05-09T22:16:49.241Z"
   },
   {
    "duration": 7,
    "start_time": "2025-05-09T22:16:49.260Z"
   },
   {
    "duration": 2,
    "start_time": "2025-05-09T22:16:49.271Z"
   },
   {
    "duration": 5,
    "start_time": "2025-05-09T22:16:49.275Z"
   },
   {
    "duration": 799,
    "start_time": "2025-05-09T22:18:26.830Z"
   },
   {
    "duration": 571,
    "start_time": "2025-05-09T22:18:27.631Z"
   },
   {
    "duration": 0,
    "start_time": "2025-05-09T22:18:28.204Z"
   },
   {
    "duration": 0,
    "start_time": "2025-05-09T22:18:28.205Z"
   },
   {
    "duration": 0,
    "start_time": "2025-05-09T22:18:28.206Z"
   },
   {
    "duration": 0,
    "start_time": "2025-05-09T22:18:28.207Z"
   },
   {
    "duration": 0,
    "start_time": "2025-05-09T22:18:28.208Z"
   },
   {
    "duration": 0,
    "start_time": "2025-05-09T22:18:28.209Z"
   },
   {
    "duration": 0,
    "start_time": "2025-05-09T22:18:28.220Z"
   },
   {
    "duration": 0,
    "start_time": "2025-05-09T22:18:28.221Z"
   },
   {
    "duration": 0,
    "start_time": "2025-05-09T22:18:28.223Z"
   },
   {
    "duration": 0,
    "start_time": "2025-05-09T22:18:28.224Z"
   },
   {
    "duration": 0,
    "start_time": "2025-05-09T22:18:28.225Z"
   },
   {
    "duration": 0,
    "start_time": "2025-05-09T22:18:28.226Z"
   },
   {
    "duration": 0,
    "start_time": "2025-05-09T22:18:28.227Z"
   },
   {
    "duration": 211,
    "start_time": "2025-05-09T22:40:49.732Z"
   },
   {
    "duration": 704,
    "start_time": "2025-05-09T22:40:54.524Z"
   }
  ],
  "kernelspec": {
   "display_name": "Python 3 (ipykernel)",
   "language": "python",
   "name": "python3"
  },
  "language_info": {
   "codemirror_mode": {
    "name": "ipython",
    "version": 3
   },
   "file_extension": ".py",
   "mimetype": "text/x-python",
   "name": "python",
   "nbconvert_exporter": "python",
   "pygments_lexer": "ipython3",
   "version": "3.9.22"
  },
  "toc": {
   "base_numbering": 1,
   "nav_menu": {},
   "number_sections": true,
   "sideBar": true,
   "skip_h1_title": true,
   "title_cell": "Table of Contents",
   "title_sidebar": "Contents",
   "toc_cell": false,
   "toc_position": {},
   "toc_section_display": true,
   "toc_window_display": false
  }
 },
 "nbformat": 4,
 "nbformat_minor": 4
}
